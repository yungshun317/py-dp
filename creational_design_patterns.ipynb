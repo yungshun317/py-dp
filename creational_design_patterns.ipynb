{
 "cells": [
  {
   "cell_type": "markdown",
   "id": "ccc53aca-a45c-4eba-bc32-88104c5ab24b",
   "metadata": {},
   "source": [
    "# 1. Creational Design Patterns\n",
    "# 1-1. Builder"
   ]
  },
  {
   "cell_type": "code",
   "execution_count": null,
   "id": "987bc100-3bd1-4616-b682-fc9b78061e07",
   "metadata": {},
   "outputs": [],
   "source": []
  }
 ],
 "metadata": {
  "kernelspec": {
   "display_name": "Python 3 (ipykernel)",
   "language": "python",
   "name": "python3"
  },
  "language_info": {
   "codemirror_mode": {
    "name": "ipython",
    "version": 3
   },
   "file_extension": ".py",
   "mimetype": "text/x-python",
   "name": "python",
   "nbconvert_exporter": "python",
   "pygments_lexer": "ipython3",
   "version": "3.12.3"
  }
 },
 "nbformat": 4,
 "nbformat_minor": 5
}
