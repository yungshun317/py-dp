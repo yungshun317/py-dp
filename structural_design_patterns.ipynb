{
 "cells": [
  {
   "cell_type": "markdown",
   "id": "3e01cc68-8f53-4ef5-8f85-f854d788f1b2",
   "metadata": {},
   "source": [
    "# 1. Structural Design Patterns\n",
    "1. **Adapter**\n",
    "2. **Bridge**\n",
    "3. **Composite**\n",
    "4. **Decorator**\n",
    "5. **Facade**\n",
    "6. **Flyweight**\n",
    "7. **Proxy**\n",
    "\n",
    "# 2. Adapter\n",
    "The **Adapter** design pattern is a structural design pattern that allows objects with incompatible interfaces to work together by creating an intermediate adapter object.\n",
    "- **Target**\n",
    "- **Adaptee**\n",
    "- **Adapter**\n",
    "- **Client**"
   ]
  },
  {
   "cell_type": "code",
   "execution_count": 1,
   "id": "2d7c272f-0d12-4cb2-8017-8852caea50f2",
   "metadata": {},
   "outputs": [
    {
     "name": "stdout",
     "output_type": "stream",
     "text": [
      "Get Service from Provider.\n",
      "Get Complex Request from Service Provider.\n"
     ]
    }
   ],
   "source": [
    "class Service:\n",
    "    def request(self):\n",
    "        return \"Get Service from Provider.\"\n",
    "\n",
    "class Adaptee:\n",
    "    def complex_request(self):\n",
    "        return \"Get Complex Request from Service Provider.\"\n",
    "\n",
    "class Target:\n",
    "    def request(self):\n",
    "        pass\n",
    "\n",
    "class Adapter(Target):\n",
    "    def __init__(self, adaptee):\n",
    "        self.adaptee = adaptee\n",
    "\n",
    "    def request(self):\n",
    "        return self.adaptee.complex_request()\n",
    "\n",
    "service = Service()\n",
    "print(service.request())\n",
    "\n",
    "adapter = Adapter(Adaptee())\n",
    "print(adapter.request())"
   ]
  },
  {
   "cell_type": "code",
   "execution_count": 4,
   "id": "c8fb4570-d040-48b9-b279-119b444d70da",
   "metadata": {},
   "outputs": [
    {
     "name": "stdout",
     "output_type": "stream",
     "text": [
      "Get Service from Provider.\n",
      "Adaptee_1: Get Request 1 from Service Provider.\n",
      "Adaptee_2: Get Request 2 from Service Provider.\n"
     ]
    }
   ],
   "source": [
    "# Multiple adaptees\n",
    "class Service:\n",
    "    def request(self):\n",
    "        return \"Get Service from Provider.\"\n",
    "\n",
    "class Adaptee_1:\n",
    "    def request_1(self):\n",
    "        return \"Get Request 1 from Service Provider.\"\n",
    "\n",
    "class Adaptee_2:\n",
    "    def request_2(self):\n",
    "        return \"Get Request 2 from Service Provider.\"\n",
    "\n",
    "class Target:\n",
    "    def request(self):\n",
    "        pass\n",
    "\n",
    "class Adapter(Target, Adaptee_1, Adaptee_2):\n",
    "    def request(self):\n",
    "        return f\"Adaptee_1: {self.request_1()}\\nAdaptee_2: {self.request_2()}\"\n",
    "\n",
    "service = Service()\n",
    "print(service.request())\n",
    "\n",
    "adapter = Adapter()\n",
    "print(adapter.request())"
   ]
  },
  {
   "cell_type": "markdown",
   "id": "510866c8-18d5-46c6-8d78-39a6182d1af6",
   "metadata": {},
   "source": [
    "# 3. Bridge\n",
    "The **Bridge** design pattern is a structural design pattern that aims to decouple an abstraction from its implementation, allowing both to vary independently.\n",
    "- **Abstraction**\n",
    "- **Refined Abstraction**\n",
    "- **Implementation**\n",
    "- **Concrete Implementation**\n",
    "- **Bridge**\n",
    "- **Client**"
   ]
  },
  {
   "cell_type": "code",
   "execution_count": 5,
   "id": "74612d3c-9373-44e0-baf4-b42d89780957",
   "metadata": {},
   "outputs": [
    {
     "name": "stdout",
     "output_type": "stream",
     "text": [
      "RefinedAbstraction Operation Executed.\n",
      "ConcreteImplementationA Operation Executed.\n",
      "\n",
      "RefinedAbstraction Operation Executed.\n",
      "ConcreteImplementationB Operation Executed.\n"
     ]
    }
   ],
   "source": [
    "from abc import ABC, abstractmethod\n",
    "\n",
    "class Implementation(ABC):\n",
    "    @abstractmethod\n",
    "    def operation_implementation(self):\n",
    "        pass\n",
    "\n",
    "class ConcreteImplementationA(Implementation):\n",
    "    def operation_implementation(self):\n",
    "        print(\"ConcreteImplementationA Operation Executed.\")\n",
    "\n",
    "class ConcreteImplementationB(Implementation):\n",
    "    def operation_implementation(self):\n",
    "        print(\"ConcreteImplementationB Operation Executed.\")\n",
    "\n",
    "class Abstraction(ABC):\n",
    "    def __init__(self, implementation):\n",
    "        self.implementation = implementation\n",
    "\n",
    "    def operation(self):\n",
    "        pass\n",
    "\n",
    "class RefinedAbstraction(Abstraction):\n",
    "    def operation(self):\n",
    "        print(\"RefinedAbstraction Operation Executed.\")\n",
    "        self.implementation.operation_implementation()\n",
    "\n",
    "implementation_a = ConcreteImplementationA()\n",
    "implementation_b = ConcreteImplementationB()\n",
    "\n",
    "refined_abstraction_a = RefinedAbstraction(implementation_a)\n",
    "refined_abstraction_a.operation()\n",
    "\n",
    "print()\n",
    "\n",
    "refined_abstraction_b = RefinedAbstraction(implementation_b)\n",
    "refined_abstraction_b.operation()"
   ]
  },
  {
   "cell_type": "code",
   "execution_count": null,
   "id": "4c373996-b45b-4bf2-a801-8575fe343493",
   "metadata": {},
   "outputs": [],
   "source": []
  }
 ],
 "metadata": {
  "kernelspec": {
   "display_name": "Python 3 (ipykernel)",
   "language": "python",
   "name": "python3"
  },
  "language_info": {
   "codemirror_mode": {
    "name": "ipython",
    "version": 3
   },
   "file_extension": ".py",
   "mimetype": "text/x-python",
   "name": "python",
   "nbconvert_exporter": "python",
   "pygments_lexer": "ipython3",
   "version": "3.12.3"
  }
 },
 "nbformat": 4,
 "nbformat_minor": 5
}
