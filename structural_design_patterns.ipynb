{
 "cells": [
  {
   "cell_type": "markdown",
   "id": "3e01cc68-8f53-4ef5-8f85-f854d788f1b2",
   "metadata": {},
   "source": [
    "# 1. Structural Design Patterns\n",
    "1. **Adapter**\n",
    "2. **Bridge**\n",
    "3. **Composite**\n",
    "4. **Decorator**\n",
    "5. **Facade**\n",
    "6. **Flyweight**\n",
    "7. **Proxy**\n",
    "\n",
    "# 2. Adapter\n",
    "The **Adapter** design pattern is a structural design pattern that allows objects with incompatible interfaces to work together by creating an intermediate adapter object.\n",
    "- **Target**\n",
    "- **Adaptee**\n",
    "- **Adapter**\n",
    "- **Client**"
   ]
  },
  {
   "cell_type": "code",
   "execution_count": 1,
   "id": "2d7c272f-0d12-4cb2-8017-8852caea50f2",
   "metadata": {},
   "outputs": [
    {
     "name": "stdout",
     "output_type": "stream",
     "text": [
      "Get Service from Provider.\n",
      "Get Complex Request from Service Provider.\n"
     ]
    }
   ],
   "source": [
    "class Service:\n",
    "    def request(self):\n",
    "        return \"Get Service from Provider.\"\n",
    "\n",
    "class Adaptee:\n",
    "    def complex_request(self):\n",
    "        return \"Get Complex Request from Service Provider.\"\n",
    "\n",
    "class Target:\n",
    "    def request(self):\n",
    "        pass\n",
    "\n",
    "class Adapter(Target):\n",
    "    def __init__(self, adaptee):\n",
    "        self.adaptee = adaptee\n",
    "\n",
    "    def request(self):\n",
    "        return self.adaptee.complex_request()\n",
    "\n",
    "service = Service()\n",
    "print(service.request())\n",
    "\n",
    "adapter = Adapter(Adaptee())\n",
    "print(adapter.request())"
   ]
  },
  {
   "cell_type": "code",
   "execution_count": 4,
   "id": "c8fb4570-d040-48b9-b279-119b444d70da",
   "metadata": {},
   "outputs": [
    {
     "name": "stdout",
     "output_type": "stream",
     "text": [
      "Get Service from Provider.\n",
      "Adaptee_1: Get Request 1 from Service Provider.\n",
      "Adaptee_2: Get Request 2 from Service Provider.\n"
     ]
    }
   ],
   "source": [
    "# Multiple adaptees\n",
    "class Service:\n",
    "    def request(self):\n",
    "        return \"Get Service from Provider.\"\n",
    "\n",
    "class Adaptee_1:\n",
    "    def request_1(self):\n",
    "        return \"Get Request 1 from Service Provider.\"\n",
    "\n",
    "class Adaptee_2:\n",
    "    def request_2(self):\n",
    "        return \"Get Request 2 from Service Provider.\"\n",
    "\n",
    "class Target:\n",
    "    def request(self):\n",
    "        pass\n",
    "\n",
    "class Adapter(Target, Adaptee_1, Adaptee_2):\n",
    "    def request(self):\n",
    "        return f\"Adaptee_1: {self.request_1()}\\nAdaptee_2: {self.request_2()}\"\n",
    "\n",
    "service = Service()\n",
    "print(service.request())\n",
    "\n",
    "adapter = Adapter()\n",
    "print(adapter.request())"
   ]
  },
  {
   "cell_type": "markdown",
   "id": "510866c8-18d5-46c6-8d78-39a6182d1af6",
   "metadata": {},
   "source": [
    "# 3. Bridge\n",
    "The **Bridge** design pattern is a structural design pattern that aims to decouple an abstraction from its implementation, allowing both to vary independently.\n",
    "- **Abstraction**\n",
    "- **Refined Abstraction**\n",
    "- **Implementation**\n",
    "- **Concrete Implementation**\n",
    "- **Bridge**\n",
    "- **Client**"
   ]
  },
  {
   "cell_type": "code",
   "execution_count": 5,
   "id": "74612d3c-9373-44e0-baf4-b42d89780957",
   "metadata": {},
   "outputs": [
    {
     "name": "stdout",
     "output_type": "stream",
     "text": [
      "RefinedAbstraction Operation Executed.\n",
      "ConcreteImplementationA Operation Executed.\n",
      "\n",
      "RefinedAbstraction Operation Executed.\n",
      "ConcreteImplementationB Operation Executed.\n"
     ]
    }
   ],
   "source": [
    "from abc import ABC, abstractmethod\n",
    "\n",
    "class Implementation(ABC):\n",
    "    @abstractmethod\n",
    "    def operation_implementation(self):\n",
    "        pass\n",
    "\n",
    "class ConcreteImplementationA(Implementation):\n",
    "    def operation_implementation(self):\n",
    "        print(\"ConcreteImplementationA Operation Executed.\")\n",
    "\n",
    "class ConcreteImplementationB(Implementation):\n",
    "    def operation_implementation(self):\n",
    "        print(\"ConcreteImplementationB Operation Executed.\")\n",
    "\n",
    "class Abstraction(ABC):\n",
    "    def __init__(self, implementation):\n",
    "        self.implementation = implementation\n",
    "\n",
    "    def operation(self):\n",
    "        pass\n",
    "\n",
    "class RefinedAbstraction(Abstraction):\n",
    "    def operation(self):\n",
    "        print(\"RefinedAbstraction Operation Executed.\")\n",
    "        self.implementation.operation_implementation()\n",
    "\n",
    "implementation_a = ConcreteImplementationA()\n",
    "implementation_b = ConcreteImplementationB()\n",
    "\n",
    "refined_abstraction_a = RefinedAbstraction(implementation_a)\n",
    "refined_abstraction_a.operation()\n",
    "\n",
    "print()\n",
    "\n",
    "refined_abstraction_b = RefinedAbstraction(implementation_b)\n",
    "refined_abstraction_b.operation()"
   ]
  },
  {
   "cell_type": "markdown",
   "id": "14796e6e-079b-4e37-a36c-2c9b88f48c02",
   "metadata": {},
   "source": [
    "# 4. Composite\n",
    "- **Component**\n",
    "- **Leaf**\n",
    "- **Composite**\n",
    "- **Client**\n",
    "- **Recursive Composition**"
   ]
  },
  {
   "cell_type": "code",
   "execution_count": 1,
   "id": "099c6a5f-84e7-4488-81b7-a665ced7e7b9",
   "metadata": {},
   "outputs": [
    {
     "name": "stdout",
     "output_type": "stream",
     "text": [
      "Composite 1: Performing Operation\n",
      "Leaf 1: Performing Operation\n",
      "Leaf 2: Performing Operation\n",
      "Composite 2: Performing Operation\n",
      "Leaf 3: Performing Operation\n",
      "Leaf 4: Performing Operation\n",
      "Leaf 5: Performing Operation\n"
     ]
    }
   ],
   "source": [
    "class Component:\n",
    "    def __init__(self, name):\n",
    "        self.name = name\n",
    "        \n",
    "    def operation(self):\n",
    "        print(f\"{self.name}: Performing Operation\")\n",
    "\n",
    "class Composite:\n",
    "    def __init__(self, name):\n",
    "        self.name = name\n",
    "        self.children = []\n",
    "\n",
    "    def add(self, component):\n",
    "        self.children.append(component)\n",
    "\n",
    "    def remove(self, component):\n",
    "        self.children.remove(component)\n",
    "\n",
    "    def operation(self):\n",
    "        print(f\"{self.name}: Performing Operation\")\n",
    "        for child in self.children:\n",
    "            child.operation()\n",
    "\n",
    "leaf_1 = Component('Leaf 1')\n",
    "leaf_2 = Component('Leaf 2')\n",
    "\n",
    "composite_1 = Composite('Composite 1')\n",
    "composite_1.add(leaf_1)\n",
    "composite_1.add(leaf_2)\n",
    "\n",
    "composite_2 = Composite('Composite 2')\n",
    "leaf_3 = Component('Leaf 3')\n",
    "leaf_4 = Component('Leaf 4')\n",
    "leaf_5 = Component('Leaf 5')\n",
    "\n",
    "composite_2.add(leaf_3)\n",
    "composite_2.add(leaf_4)\n",
    "composite_2.add(leaf_5)\n",
    "\n",
    "composite_1.add(composite_2)\n",
    "# print(composite_1.children)\n",
    "# [<__main__.Component object at 0x7e91be3bb3b0>, <__main__.Component object at 0x7e91be3bba70>, <__main__.Composite object at 0x7e91be3bb710>]\n",
    "composite_1.operation()"
   ]
  },
  {
   "cell_type": "markdown",
   "id": "d7dcfef4-d41f-49ea-8d81-bdf2fe0677b3",
   "metadata": {},
   "source": [
    "# 5. Decorator\n",
    "- **Component**\n",
    "- **Concrete Component**\n",
    "- **Decorator**\n",
    "- **Concrete Decorator**\n",
    "- **Client**"
   ]
  },
  {
   "cell_type": "code",
   "execution_count": 5,
   "id": "98ca1b79-ebdf-4646-9d75-4ad01d7b5687",
   "metadata": {},
   "outputs": [
    {
     "name": "stdout",
     "output_type": "stream",
     "text": [
      "Mix: Plain Coffee ==> Milk ==> Sugar\n",
      "Total: $5.99\n"
     ]
    }
   ],
   "source": [
    "from abc import ABC, abstractmethod\n",
    "\n",
    "class Coffee(ABC):\n",
    "    @abstractmethod\n",
    "    def get_cost(self):\n",
    "        pass\n",
    "\n",
    "    @abstractmethod\n",
    "    def get_description(self):\n",
    "        pass\n",
    "\n",
    "class PlainCoffee(Coffee):\n",
    "    def get_cost(self):\n",
    "        return 2\n",
    "\n",
    "    def get_description(self):\n",
    "        return \"Plain Coffee\"\n",
    "\n",
    "class CoffeeDecorator(Coffee):\n",
    "    def __init__(self, coffee):\n",
    "        self.coffee = coffee\n",
    "\n",
    "    def get_cost(self):\n",
    "        return self.coffee.get_cost()\n",
    "\n",
    "    def get_description(self):\n",
    "        return self.coffee.get_description()\n",
    "\n",
    "class Milk(CoffeeDecorator):\n",
    "    def get_cost(self):\n",
    "        return self.coffee.get_cost() + 1.99 \n",
    "    \n",
    "    def get_description(self):\n",
    "        return self.coffee.get_description() + \" ==> Milk\"\n",
    "\n",
    "class Sugar(CoffeeDecorator):\n",
    "    def get_cost(self):\n",
    "        return self.coffee.get_cost() + 2\n",
    "    \n",
    "    def get_description(self):\n",
    "        return self.coffee.get_description() + \" ==> Sugar\"\n",
    "\n",
    "coffee = PlainCoffee()\n",
    "coffee = Milk(coffee)\n",
    "coffee = Sugar(coffee)\n",
    "\n",
    "print(f\"Mix: {coffee.get_description()}\\nTotal: ${coffee.get_cost()}\")"
   ]
  },
  {
   "cell_type": "markdown",
   "id": "c1552068-1aa2-4f47-ae4c-9370f1ec4e8d",
   "metadata": {},
   "source": [
    "# 6. Facade\n",
    "- **Facade**\n",
    "- **Complex Subsystem**\n",
    "- **Client**"
   ]
  },
  {
   "cell_type": "code",
   "execution_count": 1,
   "id": "a43cec3e-a06d-49e6-b415-8ffb0918b250",
   "metadata": {},
   "outputs": [
    {
     "name": "stdout",
     "output_type": "stream",
     "text": [
      "Subsystem A Operation A1\n",
      "Subsystem B Operation B1\n",
      "Subsystem A Operation A2\n",
      "Subsystem B Operation B2\n"
     ]
    }
   ],
   "source": [
    "class SubsystemA:\n",
    "    def operationA1(self):\n",
    "        print(\"Subsystem A Operation A1\")\n",
    "        \n",
    "    def operationA2(self):\n",
    "        print(\"Subsystem A Operation A2\")\n",
    "\n",
    "class SubsystemB:\n",
    "    def operationB1(self):\n",
    "        print(\"Subsystem B Operation B1\")\n",
    "        \n",
    "    def operationB2(self):\n",
    "        print(\"Subsystem B Operation B2\")\n",
    "\n",
    "class Facade:\n",
    "    def __init__(self):\n",
    "        self.subsystemA = SubsystemA()\n",
    "        self.subsystemB = SubsystemB()\n",
    "\n",
    "    def operation1(self):\n",
    "        self.subsystemA.operationA1()\n",
    "        self.subsystemB.operationB1()\n",
    "\n",
    "    def operation2(self):\n",
    "        self.subsystemA.operationA2()\n",
    "        self.subsystemB.operationB2()\n",
    "\n",
    "if __name__ == '__main__':\n",
    "    facade = Facade()\n",
    "    facade.operation1()\n",
    "    facade.operation2()"
   ]
  },
  {
   "cell_type": "markdown",
   "id": "4fbaddba-50ba-4b21-a7e6-ed743516c0c8",
   "metadata": {},
   "source": [
    "# 7. Flyweight\n",
    "- **Flyweight**\n",
    "- **FlyweightFactory**\n",
    "- **Client**\n",
    "- **Shared State**\n",
    "- **Unique State**\n",
    "- **Context**"
   ]
  },
  {
   "cell_type": "code",
   "execution_count": 3,
   "id": "a7dbf93e-28d1-4740-bae4-57b28768274a",
   "metadata": {},
   "outputs": [
    {
     "name": "stdout",
     "output_type": "stream",
     "text": [
      "Created Objects 6\n",
      "Available Flyweight 13\n"
     ]
    }
   ],
   "source": [
    "class Flyweight:\n",
    "    def __init__(self, shared_state):\n",
    "        self.shared_state = shared_state\n",
    "\n",
    "class FlyweightFactory:\n",
    "    _flyweights = {}\n",
    "    _created = 0\n",
    "\n",
    "    @staticmethod\n",
    "    def get_flyweight(shared_state):\n",
    "        if shared_state not in FlyweightFactory._flyweights:\n",
    "            FlyweightFactory._flyweights[shared_state] = Flyweight(shared_state)\n",
    "            FlyweightFactory._created += 1\n",
    "        return FlyweightFactory._flyweights[shared_state]\n",
    "\n",
    "objs = [\n",
    "    FlyweightFactory.get_flyweight(1),\n",
    "    FlyweightFactory.get_flyweight(1),\n",
    "    FlyweightFactory.get_flyweight(2),\n",
    "    FlyweightFactory.get_flyweight(1),\n",
    "    FlyweightFactory.get_flyweight(4),\n",
    "    FlyweightFactory.get_flyweight(1),\n",
    "    FlyweightFactory.get_flyweight(16),\n",
    "    FlyweightFactory.get_flyweight(12),\n",
    "    FlyweightFactory.get_flyweight(12),\n",
    "    FlyweightFactory.get_flyweight(121),\n",
    "    FlyweightFactory.get_flyweight(12),\n",
    "    FlyweightFactory.get_flyweight(12),\n",
    "    FlyweightFactory.get_flyweight(12),\n",
    "]\n",
    "\n",
    "print(\"Created Objects\", FlyweightFactory._created)\n",
    "print(\"Available Flyweight\", len(objs))"
   ]
  },
  {
   "cell_type": "markdown",
   "id": "654a00f7-7e8a-4dba-aa3b-591171f4d86e",
   "metadata": {},
   "source": [
    "# 8. Proxy"
   ]
  },
  {
   "cell_type": "code",
   "execution_count": null,
   "id": "ed15bcdf-2c24-43e2-848d-600b59eb9b33",
   "metadata": {},
   "outputs": [],
   "source": []
  }
 ],
 "metadata": {
  "kernelspec": {
   "display_name": "Python 3 (ipykernel)",
   "language": "python",
   "name": "python3"
  },
  "language_info": {
   "codemirror_mode": {
    "name": "ipython",
    "version": 3
   },
   "file_extension": ".py",
   "mimetype": "text/x-python",
   "name": "python",
   "nbconvert_exporter": "python",
   "pygments_lexer": "ipython3",
   "version": "3.12.3"
  }
 },
 "nbformat": 4,
 "nbformat_minor": 5
}
